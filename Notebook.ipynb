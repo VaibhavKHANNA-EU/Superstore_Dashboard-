{
 "cells": [
  {
   "cell_type": "markdown",
   "id": "3632e760",
   "metadata": {},
   "source": [
    "# Superstore Dashboard"
   ]
  },
  {
   "cell_type": "markdown",
   "id": "ce040094",
   "metadata": {},
   "source": [
    "## SQL\""
   ]
  },
  {
   "cell_type": "markdown",
   "id": "3e978624",
   "metadata": {},
   "source": [
    "* Solving "
   ]
  },
  {
   "cell_type": "code",
   "execution_count": null,
   "id": "4491c03a",
   "metadata": {},
   "outputs": [],
   "source": []
  }
 ],
 "metadata": {
  "kernelspec": {
   "display_name": "Python 3 (ipykernel)",
   "language": "python",
   "name": "python3"
  },
  "language_info": {
   "codemirror_mode": {
    "name": "ipython",
    "version": 3
   },
   "file_extension": ".py",
   "mimetype": "text/x-python",
   "name": "python",
   "nbconvert_exporter": "python",
   "pygments_lexer": "ipython3",
   "version": "3.9.13"
  }
 },
 "nbformat": 4,
 "nbformat_minor": 5
}
